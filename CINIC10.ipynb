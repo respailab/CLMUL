{
 "cells": [
  {
   "cell_type": "code",
   "execution_count": null,
   "id": "8fa50aa3-e7c9-4af1-9f0e-4f71fee0d324",
   "metadata": {},
   "outputs": [],
   "source": [
    "%load_ext autoreload"
   ]
  },
  {
   "cell_type": "code",
   "execution_count": null,
   "id": "80ede370-605a-4197-9b41-003c7215f503",
   "metadata": {},
   "outputs": [],
   "source": [
    "import os\n",
    "import importlib\n",
    "from datasets import NAMES as DATASET_NAMES\n",
    "from models import get_all_models\n",
    "from argparse import ArgumentParser, Namespace\n",
    "from utils.args import add_management_args\n",
    "from datasets import ContinualDataset"
   ]
  },
  {
   "cell_type": "code",
   "execution_count": null,
   "id": "2dd48171-fcef-44e0-ba9e-28cf04786ddb",
   "metadata": {},
   "outputs": [],
   "source": [
    "%autoreload 2\n",
    "from datasets import get_dataset\n",
    "from models import get_model"
   ]
  },
  {
   "cell_type": "code",
   "execution_count": null,
   "id": "367d1689-307c-4dc5-8794-8eafd8edc97d",
   "metadata": {},
   "outputs": [],
   "source": [
    "%autoreload 2\n",
    "from utils.training import train\n",
    "from utils.best_args import best_args\n",
    "from utils.conf import set_random_seed"
   ]
  },
  {
   "cell_type": "code",
   "execution_count": null,
   "id": "125e1a8e-89a7-4f7f-ac77-0178a50ac4a0",
   "metadata": {},
   "outputs": [],
   "source": [
    "class Args(Namespace):\n",
    "    load_best_args = False\n",
    "    dataset = \"CINIC10\"\n",
    "    model = \"ocdnet\"\n",
    "    #lr = 0.01\n",
    "    buffer_size = 200\n",
    "#     ER_weight = 1\n",
    "#     Bernoulli_probability = 0.2\n",
    "    csv_log = True\n",
    "    tensorboard = True\n",
    "#     n_epochs = 2\n",
    "    validation = True\n",
    "#     batch_size = 256\n",
    "\n",
    "args=Args()"
   ]
  },
  {
   "cell_type": "code",
   "execution_count": null,
   "id": "d3c6c34d-5018-4d30-b919-57ed5d966e82",
   "metadata": {},
   "outputs": [],
   "source": [
    "from utils.conf2 import get_device\n",
    "get_device()"
   ]
  },
  {
   "cell_type": "code",
   "execution_count": null,
   "id": "51566cb8-3110-4f97-aac4-d6a8600335bd",
   "metadata": {},
   "outputs": [],
   "source": [
    "from utils.best_args import best_args\n",
    "\n",
    "best = best_args['CINIC10']['ocdnet'][200]\n",
    "for key, value in best.items():\n",
    "    setattr(args, key, value)"
   ]
  },
  {
   "cell_type": "code",
   "execution_count": null,
   "id": "18e9c6a3-be3c-457a-8c42-e5b24eba62f5",
   "metadata": {},
   "outputs": [],
   "source": [
    "dataset = get_dataset(args) "
   ]
  },
  {
   "cell_type": "code",
   "execution_count": null,
   "id": "2e756a4e-18df-4446-9024-744584918df5",
   "metadata": {},
   "outputs": [],
   "source": [
    "backbone = dataset.get_backbone()"
   ]
  },
  {
   "cell_type": "code",
   "execution_count": null,
   "id": "6ad9ad3b-5d75-4f1d-baf1-a3d9c3bdbc2f",
   "metadata": {},
   "outputs": [],
   "source": [
    "loss = dataset.get_loss()"
   ]
  },
  {
   "cell_type": "code",
   "execution_count": null,
   "id": "0f048d71-4b60-45ac-b5ce-6464fd95b8a8",
   "metadata": {},
   "outputs": [],
   "source": [
    "model = get_model(args, backbone, loss, dataset.get_transform())"
   ]
  },
  {
   "cell_type": "code",
   "execution_count": null,
   "id": "4ccf8087-a168-49e1-b93e-a3973f762b7c",
   "metadata": {},
   "outputs": [],
   "source": [
    "model"
   ]
  },
  {
   "cell_type": "code",
   "execution_count": null,
   "id": "d5064f58-17ec-4375-ba9f-9483930380f7",
   "metadata": {},
   "outputs": [],
   "source": [
    "%%time\n",
    "train(model, dataset, args)"
   ]
  }
 ],
 "metadata": {
  "kernelspec": {
   "display_name": "Python 3 (ipykernel)",
   "language": "python",
   "name": "python3"
  },
  "language_info": {
   "codemirror_mode": {
    "name": "ipython",
    "version": 3
   },
   "file_extension": ".py",
   "mimetype": "text/x-python",
   "name": "python",
   "nbconvert_exporter": "python",
   "pygments_lexer": "ipython3",
   "version": "3.11.7"
  }
 },
 "nbformat": 4,
 "nbformat_minor": 5
}
