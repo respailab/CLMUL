{
 "cells": [
  {
   "cell_type": "code",
   "execution_count": null,
   "id": "777d382b",
   "metadata": {},
   "outputs": [],
   "source": [
    "%load_ext autoreload"
   ]
  },
  {
   "cell_type": "code",
   "execution_count": null,
   "id": "7d1366fc",
   "metadata": {},
   "outputs": [],
   "source": [
    "import os\n",
    "import importlib\n",
    "from datasets import NAMES as DATASET_NAMES\n",
    "from models import get_all_models\n",
    "from argparse import ArgumentParser, Namespace\n",
    "from utils.args import add_management_args\n",
    "from datasets import ContinualDataset"
   ]
  },
  {
   "cell_type": "code",
   "execution_count": null,
   "id": "4abe5680",
   "metadata": {},
   "outputs": [],
   "source": [
    "%autoreload 2\n",
    "from datasets import get_dataset\n",
    "from models import get_model"
   ]
  },
  {
   "cell_type": "code",
   "execution_count": null,
   "id": "cfdf83ae",
   "metadata": {},
   "outputs": [],
   "source": [
    "%autoreload 2\n",
    "from utils.training import train\n",
    "from utils.best_args import best_args\n",
    "from utils.conf import set_random_seed"
   ]
  },
  {
   "cell_type": "code",
   "execution_count": null,
   "id": "18d9c6b7",
   "metadata": {},
   "outputs": [],
   "source": [
    "DATASET_NAMES"
   ]
  },
  {
   "cell_type": "code",
   "execution_count": null,
   "id": "c7e86cd7",
   "metadata": {},
   "outputs": [],
   "source": [
    "get_all_models()"
   ]
  },
  {
   "cell_type": "code",
   "execution_count": null,
   "id": "08862eb3",
   "metadata": {},
   "outputs": [],
   "source": [
    "class Args(Namespace):\n",
    "    load_best_args = False\n",
    "    dataset = \"ciFAIR10\"\n",
    "    model = \"ocdnet\"\n",
    "    #lr = 0.01\n",
    "    buffer_size = 200\n",
    "#     ER_weight = 1\n",
    "#     Bernoulli_probability = 0.2\n",
    "    csv_log = True\n",
    "    tensorboard = True\n",
    "#     n_epochs = 2\n",
    "    validation = True\n",
    "#     batch_size = 256\n",
    "\n",
    "args=Args()"
   ]
  },
  {
   "cell_type": "code",
   "execution_count": null,
   "id": "f9d80659",
   "metadata": {},
   "outputs": [],
   "source": [
    "from utils.conf2 import get_device\n",
    "get_device()"
   ]
  },
  {
   "cell_type": "code",
   "execution_count": null,
   "id": "872255ac",
   "metadata": {},
   "outputs": [],
   "source": [
    "from utils.best_args import best_args\n",
    "\n",
    "best = best_args['ciFAIR10']['ocdnet'][200]\n",
    "for key, value in best.items():\n",
    "    setattr(args, key, value)"
   ]
  },
  {
   "cell_type": "code",
   "execution_count": null,
   "id": "d838cc22",
   "metadata": {},
   "outputs": [],
   "source": [
    "dataset = get_dataset(args) "
   ]
  },
  {
   "cell_type": "code",
   "execution_count": null,
   "id": "9d162721",
   "metadata": {},
   "outputs": [],
   "source": [
    "backbone = dataset.get_backbone()\n",
    "    "
   ]
  },
  {
   "cell_type": "code",
   "execution_count": null,
   "id": "b3932793",
   "metadata": {},
   "outputs": [],
   "source": [
    "loss = dataset.get_loss()"
   ]
  },
  {
   "cell_type": "code",
   "execution_count": null,
   "id": "4ff4465c",
   "metadata": {},
   "outputs": [],
   "source": [
    "model = get_model(args, backbone, loss, dataset.get_transform())"
   ]
  },
  {
   "cell_type": "code",
   "execution_count": null,
   "id": "f924f50d",
   "metadata": {},
   "outputs": [],
   "source": [
    "model"
   ]
  },
  {
   "cell_type": "code",
   "execution_count": null,
   "id": "b4f31324",
   "metadata": {},
   "outputs": [],
   "source": [
    "%%time\n",
    "train(model, dataset, args)"
   ]
  },
  {
   "cell_type": "markdown",
   "id": "9be8839c",
   "metadata": {},
   "source": []
  }
 ],
 "metadata": {
  "kernelspec": {
   "display_name": "Python 3 (ipykernel)",
   "language": "python",
   "name": "python3"
  },
  "language_info": {
   "codemirror_mode": {
    "name": "ipython",
    "version": 3
   },
   "file_extension": ".py",
   "mimetype": "text/x-python",
   "name": "python",
   "nbconvert_exporter": "python",
   "pygments_lexer": "ipython3",
   "version": "3.11.7"
  }
 },
 "nbformat": 4,
 "nbformat_minor": 5
}
